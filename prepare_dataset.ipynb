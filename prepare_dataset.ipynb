{
  "nbformat": 4,
  "nbformat_minor": 0,
  "metadata": {
    "colab": {
      "name": "prepare_dataset.ipynb",
      "provenance": [],
      "collapsed_sections": [],
      "authorship_tag": "ABX9TyOWsl1sAg73zRFGxUq1NCrs",
      "include_colab_link": true
    },
    "kernelspec": {
      "name": "python3",
      "display_name": "Python 3"
    },
    "language_info": {
      "name": "python"
    }
  },
  "cells": [
    {
      "cell_type": "markdown",
      "metadata": {
        "id": "view-in-github",
        "colab_type": "text"
      },
      "source": [
        "<a href=\"https://colab.research.google.com/github/freefrit/project-metric_learning/blob/main/prepare_dataset.ipynb\" target=\"_parent\"><img src=\"https://colab.research.google.com/assets/colab-badge.svg\" alt=\"Open In Colab\"/></a>"
      ]
    },
    {
      "cell_type": "code",
      "metadata": {
        "id": "oPsLRDY2ge3U"
      },
      "source": [
        "import json\n",
        "import matplotlib.pyplot as plt\n",
        "import numpy as np\n",
        "from torch.utils.data import Dataset,DataLoader"
      ],
      "execution_count": 1,
      "outputs": []
    },
    {
      "cell_type": "code",
      "metadata": {
        "id": "Ir5KYSXngk0l"
      },
      "source": [
        "class OnlineProducts_datasets_in_CIFAR(Dataset):\n",
        "  def __init__(self, root, train = True, transform = None):\n",
        "    \"\"\"\n",
        "    Dataset Init-Function.\n",
        "    Args:\n",
        "        root: the root of the dataset.\n",
        "        train: declear that the dataset is training or testing.\n",
        "        transform: the image transform mode you have to set before.\n",
        "    Returns:\n",
        "        Nothing!\n",
        "    \"\"\"\n",
        "    super(CIFAR10_IMG, self).__init__()\n",
        "    self.train = train\n",
        "    self.transform = transform\n",
        "\n",
        "    # if training, load the training annotation file, else load the testing one.\n",
        "    # the .json file stores the info of annotation in dict shape: \n",
        "    #   {'image': filenames, 'label': annotations} where filenames and annotations are arrays.\n",
        "    if self.train:\n",
        "      file_annotation = root + '/annotations/OnlineProducts_train.json'\n",
        "    else:\n",
        "      file_annotation = root + '/annotations/OnlineProducts_test.json'\n",
        "    img_folder = root + '/images'\n",
        "\n",
        "    # read the file and check if the length of filenames and annotations are same.\n",
        "    fp = open(file_annotation,'r')\n",
        "    data_dict = json.load(fp)\n",
        "    assert len(data_dict['image']) == len(data_dict['label'])\n",
        "    num_data = len(data_dict['images'])\n",
        "\n",
        "    # put the filenames into self.dataname, their annotations into self.targets.\n",
        "    self.dataname = []\n",
        "    self.targets = []\n",
        "    self.img_folder = img_folder\n",
        "    for i in range(num_data):\n",
        "      self.dataname.append(data_dict['image'][i])\n",
        "      self.targets.append(data_dict['label'][i])\n",
        "\n",
        "  def __getitem__(self, index):\n",
        "    \"\"\"\n",
        "    Dataset Getitem-Function.\n",
        "    Returns:\n",
        "        img: the data image.\n",
        "        target: the label of the data. \n",
        "    \"\"\"\n",
        "    img_path = self.img_folder + self.dataname[index]\n",
        "    target = self.targets[index]\n",
        "    img = Image.imread(img_path)\n",
        "    if self.transform is not None:\n",
        "      img = self.transform(img)\n",
        "    return img, target\n",
        "\n",
        "  def __len__(self):\n",
        "        return len(self.datanames)\n"
      ],
      "execution_count": 3,
      "outputs": []
    }
  ]
}
{
  "nbformat": 4,
  "nbformat_minor": 0,
  "metadata": {
    "colab": {
      "name": "create_json.ipynb",
      "provenance": [],
      "collapsed_sections": [],
      "authorship_tag": "ABX9TyOpY5pU/5hdy+oan0KiPKKE",
      "include_colab_link": true
    },
    "kernelspec": {
      "name": "python3",
      "display_name": "Python 3"
    },
    "language_info": {
      "name": "python"
    }
  },
  "cells": [
    {
      "cell_type": "markdown",
      "metadata": {
        "id": "view-in-github",
        "colab_type": "text"
      },
      "source": [
        "<a href=\"https://colab.research.google.com/github/freefrit/project-metric_learning/blob/main/create_json.ipynb\" target=\"_parent\"><img src=\"https://colab.research.google.com/assets/colab-badge.svg\" alt=\"Open In Colab\"/></a>"
      ]
    },
    {
      "cell_type": "code",
      "metadata": {
        "colab": {
          "base_uri": "https://localhost:8080/"
        },
        "id": "HzNCzrYJx1df",
        "outputId": "064d1c41-7d75-4e82-f74b-938daa3e9ca9"
      },
      "source": [
        "from google.colab import drive\n",
        "import os\n",
        "import json\n",
        "drive.mount('/content/gdrive')\n",
        "root = '/content/gdrive/My Drive/Stanford_Online_Products'"
      ],
      "execution_count": 1,
      "outputs": [
        {
          "output_type": "stream",
          "text": [
            "Mounted at /content/gdrive\n"
          ],
          "name": "stdout"
        }
      ]
    },
    {
      "cell_type": "code",
      "metadata": {
        "colab": {
          "base_uri": "https://localhost:8080/"
        },
        "id": "8NIfjQJn9-2b",
        "outputId": "99485cea-a74f-4794-ccf5-a66b68ca82d6"
      },
      "source": [
        "%cd /content/gdrive/My Drive/Stanford_Online_Products\n",
        "!ls"
      ],
      "execution_count": 4,
      "outputs": [
        {
          "output_type": "stream",
          "text": [
            "/content/gdrive/My Drive/Stanford_Online_Products\n",
            "images\tInfo_Files  LICENSE  README\n"
          ],
          "name": "stdout"
        }
      ]
    },
    {
      "cell_type": "code",
      "metadata": {
        "colab": {
          "base_uri": "https://localhost:8080/"
        },
        "id": "IpXkQp68yK50",
        "outputId": "5b50d0b3-5101-48b4-8bee-ff5d975e4c06"
      },
      "source": [
        "anno_loc = './annotations/'\n",
        "if os.path.exists(anno_loc) == False:\n",
        "    os.mkdir(anno_loc)\n",
        "%cd ~\n",
        "\n",
        "train_filenames = []\n",
        "train_annotations = []\n",
        "\n",
        "test_filenames = []\n",
        "test_annotations= []"
      ],
      "execution_count": 7,
      "outputs": [
        {
          "output_type": "stream",
          "text": [
            "/root\n"
          ],
          "name": "stdout"
        }
      ]
    },
    {
      "cell_type": "code",
      "metadata": {
        "colab": {
          "base_uri": "https://localhost:8080/"
        },
        "id": "3DWIgbXh_GSL",
        "outputId": "cb1a62f1-afb3-4c28-b887-8a91b000f35f"
      },
      "source": [
        "%cd /content\n",
        "!ls"
      ],
      "execution_count": 13,
      "outputs": [
        {
          "output_type": "stream",
          "text": [
            "/content\n",
            "gdrive\tsample_data\n"
          ],
          "name": "stdout"
        }
      ]
    },
    {
      "cell_type": "code",
      "metadata": {
        "colab": {
          "base_uri": "https://localhost:8080/",
          "height": 281
        },
        "id": "Ol229vxoygsG",
        "outputId": "5a5fbd3d-fa7a-47e8-a513-b2cef78e26a3"
      },
      "source": [
        "super_class = [\n",
        "      \"bicycle\", \"cabinet\", \"chair\", \"coffee_maker\", \"fan\", \"kettle\", \"lamp\",\n",
        "      \"mug\", \"sofa\", \"stapler\", \"table\", \"toaster\"\n",
        "  ]\n",
        "\n",
        "train_path = root + '/Ebay_train.txt'\n",
        "test_path = root + '/Ebay_test.txt'\n",
        "\n",
        "print('creat train_img annotations')\n",
        "with open(train_path) as f:\n",
        "  f.readlines()\n",
        "  for line in f.readlines():\n",
        "    s = line.split(' ')\n",
        "    train_annotations.append(s[2])\n",
        "    train_filenames.append(s[3])\n",
        "print('for training set' + str(len(train_filenames)) + 'datas wrote.')\n",
        "\n",
        "print('creat test_img annotations')\n",
        "with open(test_path) as f:\n",
        "  f.readlines()\n",
        "  for line in f.readlines():\n",
        "    s = line.split(' ')\n",
        "    test_annotations.append(s[2])\n",
        "    test_filenames.append(s[3])\n",
        "print('for testing set' + str(len(test_filenames)) + 'datas wrote.')  "
      ],
      "execution_count": 14,
      "outputs": [
        {
          "output_type": "stream",
          "text": [
            "creat train_img annotations\n"
          ],
          "name": "stdout"
        },
        {
          "output_type": "error",
          "ename": "FileNotFoundError",
          "evalue": "ignored",
          "traceback": [
            "\u001b[0;31m---------------------------------------------------------------------------\u001b[0m",
            "\u001b[0;31mFileNotFoundError\u001b[0m                         Traceback (most recent call last)",
            "\u001b[0;32m<ipython-input-14-71b4355b2392>\u001b[0m in \u001b[0;36m<module>\u001b[0;34m()\u001b[0m\n\u001b[1;32m      8\u001b[0m \u001b[0;34m\u001b[0m\u001b[0m\n\u001b[1;32m      9\u001b[0m \u001b[0mprint\u001b[0m\u001b[0;34m(\u001b[0m\u001b[0;34m'creat train_img annotations'\u001b[0m\u001b[0;34m)\u001b[0m\u001b[0;34m\u001b[0m\u001b[0;34m\u001b[0m\u001b[0m\n\u001b[0;32m---> 10\u001b[0;31m \u001b[0;32mwith\u001b[0m \u001b[0mopen\u001b[0m\u001b[0;34m(\u001b[0m\u001b[0mtrain_path\u001b[0m\u001b[0;34m)\u001b[0m \u001b[0;32mas\u001b[0m \u001b[0mf\u001b[0m\u001b[0;34m:\u001b[0m\u001b[0;34m\u001b[0m\u001b[0;34m\u001b[0m\u001b[0m\n\u001b[0m\u001b[1;32m     11\u001b[0m   \u001b[0mf\u001b[0m\u001b[0;34m.\u001b[0m\u001b[0mreadlines\u001b[0m\u001b[0;34m(\u001b[0m\u001b[0;34m)\u001b[0m\u001b[0;34m\u001b[0m\u001b[0;34m\u001b[0m\u001b[0m\n\u001b[1;32m     12\u001b[0m   \u001b[0;32mfor\u001b[0m \u001b[0mline\u001b[0m \u001b[0;32min\u001b[0m \u001b[0mf\u001b[0m\u001b[0;34m.\u001b[0m\u001b[0mreadlines\u001b[0m\u001b[0;34m(\u001b[0m\u001b[0;34m)\u001b[0m\u001b[0;34m:\u001b[0m\u001b[0;34m\u001b[0m\u001b[0;34m\u001b[0m\u001b[0m\n",
            "\u001b[0;31mFileNotFoundError\u001b[0m: [Errno 2] No such file or directory: '/content/gdrive/My Drive/Stanford_Online_Products/Ebay_train.txt'"
          ]
        }
      ]
    },
    {
      "cell_type": "code",
      "metadata": {
        "id": "wXulyjpK7Dh8"
      },
      "source": [
        "train_annot_dict = {\n",
        "        'image': train_filenames,\n",
        "        'label': train_annotations\n",
        "    }\n",
        "test_annot_dict = {\n",
        "        'image': test_filenames,\n",
        "        'label': test_annotations\n",
        "    }\n",
        "\n",
        "train_json = json.dumps(train_annot_dict)\n",
        "with open('./annotations/OnlineProducts_train.json') as f:\n",
        "  f.write(train_json)\n",
        "\n",
        "test_json = json.dumps(test_annot_dict)\n",
        "with open('./annotations/OnlineProducts_test.json') as f:\n",
        "  f.write(test_json)\n",
        "\n",
        "print('annotations have writen to json file')"
      ],
      "execution_count": null,
      "outputs": []
    }
  ]
}
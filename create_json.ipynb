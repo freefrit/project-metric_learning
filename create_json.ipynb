{
  "nbformat": 4,
  "nbformat_minor": 0,
  "metadata": {
    "colab": {
      "name": "create_json.ipynb",
      "provenance": [],
      "collapsed_sections": [],
      "authorship_tag": "ABX9TyODhgZiVDwN4s+TRrb/S1rI",
      "include_colab_link": true
    },
    "kernelspec": {
      "name": "python3",
      "display_name": "Python 3"
    },
    "language_info": {
      "name": "python"
    },
    "accelerator": "GPU"
  },
  "cells": [
    {
      "cell_type": "markdown",
      "metadata": {
        "id": "view-in-github",
        "colab_type": "text"
      },
      "source": [
        "<a href=\"https://colab.research.google.com/github/freefrit/project-metric_learning/blob/main/create_json.ipynb\" target=\"_parent\"><img src=\"https://colab.research.google.com/assets/colab-badge.svg\" alt=\"Open In Colab\"/></a>"
      ]
    },
    {
      "cell_type": "code",
      "metadata": {
        "colab": {
          "base_uri": "https://localhost:8080/"
        },
        "id": "HzNCzrYJx1df",
        "outputId": "3388e116-d698-4f20-e0f8-353ba6396533"
      },
      "source": [
        "from google.colab import drive\n",
        "import os\n",
        "import json\n",
        "drive.mount('/content/gdrive')\n",
        "root = '/content/gdrive/My Drive/Stanford_Online_Products'"
      ],
      "execution_count": 1,
      "outputs": [
        {
          "output_type": "stream",
          "text": [
            "Mounted at /content/gdrive\n"
          ],
          "name": "stdout"
        }
      ]
    },
    {
      "cell_type": "code",
      "metadata": {
        "colab": {
          "base_uri": "https://localhost:8080/"
        },
        "id": "8NIfjQJn9-2b",
        "outputId": "cb7562e7-84c7-4463-f37c-c670452d3f74"
      },
      "source": [
        "%cd /content/gdrive/My Drive/Stanford_Online_Products\n",
        "!ls"
      ],
      "execution_count": 2,
      "outputs": [
        {
          "output_type": "stream",
          "text": [
            "/content/gdrive/My Drive/Stanford_Online_Products\n",
            "annotations  images  Info_Files  LICENSE  README\n"
          ],
          "name": "stdout"
        }
      ]
    },
    {
      "cell_type": "code",
      "metadata": {
        "id": "IpXkQp68yK50"
      },
      "source": [
        "anno_loc = './annotations/'\n",
        "if os.path.exists(anno_loc) == False:\n",
        "    os.mkdir(anno_loc)\n",
        "\n",
        "train_filenames = []\n",
        "train_annotations = []\n",
        "\n",
        "test_filenames = []\n",
        "test_annotations= []"
      ],
      "execution_count": 3,
      "outputs": []
    },
    {
      "cell_type": "code",
      "metadata": {
        "colab": {
          "base_uri": "https://localhost:8080/"
        },
        "id": "3DWIgbXh_GSL",
        "outputId": "cb1a62f1-afb3-4c28-b887-8a91b000f35f"
      },
      "source": [
        "%cd /content\n",
        "!ls"
      ],
      "execution_count": 13,
      "outputs": [
        {
          "output_type": "stream",
          "text": [
            "/content\n",
            "gdrive\tsample_data\n"
          ],
          "name": "stdout"
        }
      ]
    },
    {
      "cell_type": "code",
      "metadata": {
        "colab": {
          "base_uri": "https://localhost:8080/"
        },
        "id": "Ol229vxoygsG",
        "outputId": "2d7c4fe8-f98e-4fa2-d7e8-957dbd3ed3db"
      },
      "source": [
        "super_class = [\n",
        "      \"bicycle\", \"cabinet\", \"chair\", \"coffee_maker\", \"fan\", \"kettle\", \"lamp\",\n",
        "      \"mug\", \"sofa\", \"stapler\", \"table\", \"toaster\"\n",
        "  ]\n",
        "\n",
        "train_path = root + '/Info_Files/Ebay_train.txt'\n",
        "test_path = root + '/Info_Files/Ebay_test.txt'\n",
        "\n",
        "print('creat train_img annotations')\n",
        "# with open(train_path) as f:\n",
        "#   f.readlines()\n",
        "#   for line in f.readlines():\n",
        "#     print('*')\n",
        "#     s = line.split(' ')\n",
        "#     train_annotations.append(super_class[int(s[2])])\n",
        "#     train_filenames.append(s[3])\n",
        "file1 = open(train_path, 'r')\n",
        "file1.readlines()\n",
        "for line in file1.readlines():\n",
        "    print('*')\n",
        "    s = line.split(' ')\n",
        "    train_annotations.append(super_class[int(s[2])])\n",
        "    train_filenames.append(s[3])\n",
        "file1.close()\n",
        "print('for training set: ' + str(len(train_filenames)) + ' datas wrote.')\n",
        "\n",
        "print('creat test_img annotations')\n",
        "# with open(test_path) as f:\n",
        "#   f.readlines()\n",
        "#   for line in f.readlines():\n",
        "#     print('*')\n",
        "#     s = line.split(' ')\n",
        "#     test_annotations.append(super_class[int(s[2])])\n",
        "#     test_filenames.append(s[3])\n",
        "file2 = open(test_path, 'r')\n",
        "file2.readlines()\n",
        "for line in file2.readlines():\n",
        "    print('*')\n",
        "    s = line.split(' ')\n",
        "    test_annotations.append(super_class[int(s[2])])\n",
        "    test_filenames.append(s[3])\n",
        "file2.close()\n",
        "print('for testing set: ' + str(len(test_filenames)) + ' datas wrote.')  "
      ],
      "execution_count": 12,
      "outputs": [
        {
          "output_type": "stream",
          "text": [
            "creat train_img annotations\n",
            "for training set: 0 datas wrote.\n",
            "creat test_img annotations\n",
            "for testing set: 0 datas wrote.\n"
          ],
          "name": "stdout"
        }
      ]
    },
    {
      "cell_type": "code",
      "metadata": {
        "colab": {
          "base_uri": "https://localhost:8080/"
        },
        "id": "_fclXS1wSPg1",
        "outputId": "074f9d50-2091-491e-b56b-7a0a8541b26a"
      },
      "source": [
        "train_filenames"
      ],
      "execution_count": 8,
      "outputs": [
        {
          "output_type": "execute_result",
          "data": {
            "text/plain": [
              "[]"
            ]
          },
          "metadata": {
            "tags": []
          },
          "execution_count": 8
        }
      ]
    },
    {
      "cell_type": "code",
      "metadata": {
        "id": "wXulyjpK7Dh8"
      },
      "source": [
        "train_annot_dict = {\n",
        "        'image': train_filenames,\n",
        "        'label': train_annotations\n",
        "    }\n",
        "test_annot_dict = {\n",
        "        'image': test_filenames,\n",
        "        'label': test_annotations\n",
        "    }\n",
        "\n",
        "train_json = json.dumps(train_annot_dict)\n",
        "with open('./annotations/OnlineProducts_train.json') as f:\n",
        "  f.write(train_json)\n",
        "\n",
        "test_json = json.dumps(test_annot_dict)\n",
        "with open('./annotations/OnlineProducts_test.json') as f:\n",
        "  f.write(test_json)\n",
        "\n",
        "print('annotations have writen to json file')"
      ],
      "execution_count": null,
      "outputs": []
    }
  ]
}